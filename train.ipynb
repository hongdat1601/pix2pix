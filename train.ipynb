{
 "cells": [
  {
   "cell_type": "code",
   "execution_count": 5,
   "metadata": {},
   "outputs": [
    {
     "name": "stdout",
     "output_type": "stream",
     "text": [
      "d:\\Project\\AI\\pix2pix\\data\n"
     ]
    }
   ],
   "source": [
    "project_path = './'\n",
    "%cd {project_path}"
   ]
  },
  {
   "cell_type": "code",
   "execution_count": null,
   "metadata": {},
   "outputs": [],
   "source": [
    "import os\n",
    "import numpy as np"
   ]
  },
  {
   "attachments": {},
   "cell_type": "markdown",
   "metadata": {},
   "source": [
    "# Configuration"
   ]
  },
  {
   "cell_type": "code",
   "execution_count": null,
   "metadata": {},
   "outputs": [],
   "source": [
    "!pip install -r requirements.txt"
   ]
  },
  {
   "cell_type": "code",
   "execution_count": null,
   "metadata": {},
   "outputs": [],
   "source": [
    "if not os.path.exists('./cache'):\n",
    "    os.mkdir('./cache')\n",
    "    print(\"Created cache folder\")\n",
    "\n",
    "if not os.path.exists('./weights'):\n",
    "    os.mkdir('./weights')\n",
    "    print(\"Created weights folder\")\n",
    "\n",
    "if not os.path.exists('./model_structure'):\n",
    "    os.mkdir('./model_structure')\n",
    "    print(\"Created model_structure folder\")"
   ]
  },
  {
   "attachments": {},
   "cell_type": "markdown",
   "metadata": {},
   "source": [
    "# Load Data"
   ]
  },
  {
   "cell_type": "code",
   "execution_count": null,
   "metadata": {},
   "outputs": [],
   "source": [
    "def create_file(file_path, lst):\n",
    "    with open(file_path, 'w') as f:\n",
    "        for i in lst:\n",
    "            f.write(''.join(i.split('.')[:-1]) + '\\n')"
   ]
  },
  {
   "cell_type": "code",
   "execution_count": 5,
   "metadata": {},
   "outputs": [],
   "source": [
    "path = './data/mask'\n",
    "test_size = 0.2\n",
    "\n",
    "data = os.listdir(path)\n",
    "np.random.shuffle(data)\n",
    "idx = int(len(data) * (1 - test_size))\n",
    "\n",
    "train = data[:idx]\n",
    "test = data[idx:]\n",
    "\n",
    "create_file('./data/train.txt', train)\n",
    "create_file('./data/test.txt', test)"
   ]
  },
  {
   "attachments": {},
   "cell_type": "markdown",
   "metadata": {},
   "source": [
    "# Train"
   ]
  },
  {
   "cell_type": "code",
   "execution_count": null,
   "metadata": {},
   "outputs": [],
   "source": [
    "img_dir = './data/img'\n",
    "mask_dir = './data/mask'\n",
    "epochs = 200\n",
    "generator = 'attention-unet ' # unet | attention-unet \n",
    "draw_model = True\n",
    "batch_size = 4"
   ]
  },
  {
   "cell_type": "code",
   "execution_count": null,
   "metadata": {},
   "outputs": [],
   "source": [
    "\n",
    "!python train.py --img-dir {img_dir} \\\n",
    "    --mask-dir {mask_dir} \\\n",
    "    --epochs {epochs} \\\n",
    "    --generator {generator} \\\n",
    "    --batch-size {batch_size} \\\n",
    "    --draw-model {draw_model}"
   ]
  }
 ],
 "metadata": {
  "kernelspec": {
   "display_name": "deep",
   "language": "python",
   "name": "python3"
  },
  "language_info": {
   "codemirror_mode": {
    "name": "ipython",
    "version": 3
   },
   "file_extension": ".py",
   "mimetype": "text/x-python",
   "name": "python",
   "nbconvert_exporter": "python",
   "pygments_lexer": "ipython3",
   "version": "3.7.13"
  },
  "orig_nbformat": 4
 },
 "nbformat": 4,
 "nbformat_minor": 2
}
